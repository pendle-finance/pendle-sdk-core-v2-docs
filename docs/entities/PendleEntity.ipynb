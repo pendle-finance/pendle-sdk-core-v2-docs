{
 "cells": [
  {
   "cell_type": "markdown",
   "id": "8e4a6e3c",
   "metadata": {},
   "source": [
    "# PendleEntity\n",
    "\n",
    "---\n",
    "\n",
    "This is the base class of all entities class of Pendle SDK. It has some configuration, such as the contract ABI, multicall, and network connection, and it will initialize the contract object."
   ]
  },
  {
   "cell_type": "markdown",
   "id": "ea8725ac",
   "metadata": {},
   "source": [
    "<span style=\"color: red\">**TODO** export PendleEntity</span> "
   ]
  },
  {
   "cell_type": "markdown",
   "id": "4d1fb2be",
   "metadata": {},
   "source": [
    "## Utility types"
   ]
  },
  {
   "cell_type": "markdown",
   "id": "9040c7e2",
   "metadata": {},
   "source": [
    "### `type PendleEntityConfigOptionalAbi`"
   ]
  },
  {
   "cell_type": "code",
   "execution_count": 2,
   "id": "8a5bf526",
   "metadata": {},
   "outputs": [
    {
     "name": "stderr",
     "output_type": "stream",
     "text": [
      "1:10 - Module '\"../node_modules/@pendle/sdk-v2/dist\"' has no exported member 'PendleEntityConfigOptionalAbi'.\n"
     ]
    }
   ],
   "source": [
    "import { PendleEntityConfigOptionalAbi } from '@pendle/sdk-v2';"
   ]
  },
  {
   "cell_type": "markdown",
   "id": "2df17619",
   "metadata": {},
   "source": [
    "```ts\n",
    "type PendleEntityConfigOptionalAbi = NetworkConnection & {\n",
    "    multicall?: Multicall;\n",
    "    abi?: ContractInterface;\n",
    "};\n",
    "```\n",
    "\n",
    "This type is used base configuration for a `PendleEntity`, but is mainly used for the subclass of `PendleEntity`, as the subclass will pass its contract ABI to the class `PendleEntity`.\n",
    "\n",
    "See `NetworkConnection` in [Utilities types and functions](../utilities-types-and-functions.ipynb).\n",
    "\n",
    "Pass in `Multicall` to use contract methods with `Multicall` (via `multicallStatic`)."
   ]
  },
  {
   "cell_type": "markdown",
   "id": "d0c830b4",
   "metadata": {},
   "source": [
    "### `type PendleEntityConfig`"
   ]
  },
  {
   "cell_type": "code",
   "execution_count": 3,
   "id": "c34b45ef",
   "metadata": {},
   "outputs": [
    {
     "name": "stderr",
     "output_type": "stream",
     "text": [
      "1:10 - Module '\"../node_modules/@pendle/sdk-v2/dist\"' has no exported member 'PendleEntityConfig'.\n"
     ]
    }
   ],
   "source": [
    "import { PendleEntityConfig } from '@pendle/sdk-v2';"
   ]
  },
  {
   "cell_type": "markdown",
   "id": "5d69e32a",
   "metadata": {},
   "source": [
    "```tsx\n",
    "type PendleEntityConfig = PendleEntityConfigOptionalAbi & {\n",
    "    abi: ContractInterface;\n",
    "};\n",
    "```\n",
    "\n",
    "This is the same type as `PendleEntityConfigOptionalAbi`, but with forced ABI."
   ]
  },
  {
   "cell_type": "markdown",
   "id": "2b906ddb",
   "metadata": {},
   "source": [
    "## `class PendleEntity`"
   ]
  },
  {
   "cell_type": "code",
   "execution_count": 4,
   "id": "e68f8245",
   "metadata": {},
   "outputs": [
    {
     "name": "stderr",
     "output_type": "stream",
     "text": [
      "1:10 - Module '\"../node_modules/@pendle/sdk-v2/dist\"' has no exported member 'PendleEntity'.\n"
     ]
    }
   ],
   "source": [
    "import { PendleEntity } from '@pendle/sdk-v2';"
   ]
  },
  {
   "cell_type": "markdown",
   "id": "e2a662e0",
   "metadata": {},
   "source": [
    "```tsx\n",
    "class PendleEntity;\n",
    "```"
   ]
  },
  {
   "cell_type": "markdown",
   "id": "f1f1b5cd",
   "metadata": {},
   "source": [
    "### constructor\n",
    "\n",
    "```ts\n",
    "constructor(\n",
    "\taddress: Address,\n",
    "\tchainId: ChainId,\n",
    "\tconfig: PendleEntityConfig\n",
    ");\n",
    "```\n",
    "\n",
    "Parameters:\n",
    "\n",
    "- `address: Address` — The inner contract address\n",
    "- `chainId: ChainId` — The chain’s ID of the contract. See `ChainId` type in [Utilities types and functions](https://www.notion.so/Utilities-types-and-functions-3c28e12657514a01884d29ce0faae4e6).\n",
    "- `config: PendleEntityConfig` — the configuration. See `[PendleEntityConfig](https://www.notion.so/PendleEntity-8a659d1bc14147eb8235d38c2b978923)` type."
   ]
  },
  {
   "cell_type": "markdown",
   "id": "4c224193",
   "metadata": {},
   "source": [
    "<span style=\"color: red\">**TODO** example</span> "
   ]
  },
  {
   "cell_type": "markdown",
   "id": "a8fcf20e",
   "metadata": {},
   "source": [
    "### Properties\n",
    "\n",
    "```tsx\n",
    "readonly contract: C;\n",
    "readonly address: Address;\n",
    "readonly chainId: ChainId;\n",
    "readonly multicall?: Multicall;\n",
    "readonly networkConnection: NetworkConnection;\n",
    "```\n",
    "\n",
    "- `contract: C` — the inner contract, initialized in the constructor.\n",
    "- `address: Address` — the contract’s address, passed in the constructor.\n",
    "- `chainId: ChainId` — the constrct’s chain’s ID, passed in the constructor.\n",
    "- `multicall?: Multicall` — the multicall instance, passed via the configuration in the constructor.\n",
    "- `networkConnection: NetworkConnection` — the network connection, copied from the configuration in the constructor."
   ]
  },
  {
   "cell_type": "markdown",
   "id": "d1783e9e",
   "metadata": {},
   "source": [
    "[utilities-types-"
   ]
  }
 ],
 "metadata": {
  "kernelspec": {
   "display_name": "TypeScript",
   "language": "typescript",
   "name": "tslab"
  },
  "language_info": {
   "codemirror_mode": {
    "mode": "typescript",
    "name": "javascript",
    "typescript": true
   },
   "file_extension": ".ts",
   "mimetype": "text/typescript",
   "name": "typescript",
   "version": "3.7.2"
  }
 },
 "nbformat": 4,
 "nbformat_minor": 5
}
