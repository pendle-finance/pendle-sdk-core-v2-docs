{
 "cells": [
  {
   "cell_type": "markdown",
   "id": "dc90fcd5",
   "metadata": {},
   "source": [
    "# Utilities types and functions\n",
    "\n",
    "---"
   ]
  },
  {
   "cell_type": "markdown",
   "id": "62a80c76",
   "metadata": {},
   "source": [
    "## Used external types and functions\n",
    "\n",
    "We use some external packages, mainly `ethers`. So before reading further, please be sure that you are familiar with them first."
   ]
  },
  {
   "cell_type": "code",
   "execution_count": 2,
   "id": "b2e148ac",
   "metadata": {},
   "outputs": [],
   "source": [
    "import type { providers, Signer } from 'ethers';\n",
    "\n",
    "type Provider = providers.Provider;\n",
    "\n",
    "export { BigNumber as BN, BigNumberish } from 'ethers';"
   ]
  },
  {
   "cell_type": "markdown",
   "id": "6f9ca108",
   "metadata": {},
   "source": [
    "## `type Address`\n"
   ]
  },
  {
   "cell_type": "code",
   "execution_count": 6,
   "id": "11b7208f",
   "metadata": {},
   "outputs": [],
   "source": [
    "import { Address } from '@pendle/sdk-v2';"
   ]
  },
  {
   "cell_type": "markdown",
   "id": "6a66a223",
   "metadata": {},
   "source": [
    "```ts\n",
    "type Address = string;\n",
    "```"
   ]
  },
  {
   "cell_type": "markdown",
   "id": "fba14fa3",
   "metadata": {},
   "source": [
    "This is just an alias type, but it should be more readable than just using `string`."
   ]
  },
  {
   "cell_type": "markdown",
   "id": "3fbca1a0",
   "metadata": {},
   "source": [
    "## `function isSameAddress`"
   ]
  },
  {
   "cell_type": "code",
   "execution_count": 7,
   "id": "0a6b58b1",
   "metadata": {},
   "outputs": [],
   "source": [
    "import { isSameAddress } from '@pendle/sdk-v2';"
   ]
  },
  {
   "cell_type": "markdown",
   "id": "69b24ca1",
   "metadata": {},
   "source": [
    "```ts\n",
    "function isSameAddress(address1: Address, address2: Address): boolean;\n",
    "```"
   ]
  },
  {
   "cell_type": "markdown",
   "id": "e9168451",
   "metadata": {},
   "source": [
    "Check if two addresses are the same, by comparing them in **lowercase**."
   ]
  },
  {
   "cell_type": "markdown",
   "id": "63d44437",
   "metadata": {},
   "source": [
    "## `type ChainId`"
   ]
  },
  {
   "cell_type": "code",
   "execution_count": 8,
   "id": "f58611d2",
   "metadata": {},
   "outputs": [],
   "source": [
    "import { ChainId } from '@pendle/sdk-v2';"
   ]
  },
  {
   "cell_type": "markdown",
   "id": "3d70bd05",
   "metadata": {},
   "source": [
    "```tsx\n",
    "type ChainId = 1 | 43113 | 80001 | 43114;\n",
    "```\n",
    "\n",
    "This type is a union of the chains’ IDs that are supported by Pendle."
   ]
  },
  {
   "cell_type": "markdown",
   "id": "bf8e33a7",
   "metadata": {},
   "source": [
    "## `type MainchainId`"
   ]
  },
  {
   "cell_type": "code",
   "execution_count": 10,
   "id": "cc8fa39d",
   "metadata": {},
   "outputs": [],
   "source": [
    "import { MainchainId } from '@pendle/sdk-v2';"
   ]
  },
  {
   "cell_type": "markdown",
   "id": "e37fd9be",
   "metadata": {},
   "source": [
    "```tsx\n",
    "type MainchainId = 1 | 43113;\n",
    "```\n",
    "\n",
    "This type is a union of the main chains’ IDs that are supported by Pendle."
   ]
  },
  {
   "cell_type": "markdown",
   "id": "71b3c2fb",
   "metadata": {},
   "source": [
    "## `function IsMainchain`"
   ]
  },
  {
   "cell_type": "code",
   "execution_count": 13,
   "id": "adabf097",
   "metadata": {},
   "outputs": [],
   "source": [
    "import { isMainchain } from '@pendle/sdk-v2';"
   ]
  },
  {
   "cell_type": "markdown",
   "id": "879b9e77",
   "metadata": {},
   "source": [
    "```tsx\n",
    "export function isMainchain(chainId: ChainId): chainId is MainchainId;\n",
    "```\n",
    "\n",
    "Check if a `ChainId` a `MainchainId`"
   ]
  },
  {
   "cell_type": "markdown",
   "id": "81496898",
   "metadata": {},
   "source": [
    "### Examples"
   ]
  },
  {
   "cell_type": "code",
   "execution_count": 14,
   "id": "2a200a37",
   "metadata": {},
   "outputs": [
    {
     "name": "stdout",
     "output_type": "stream",
     "text": [
      "\u001b[33mtrue\u001b[39m\n"
     ]
    }
   ],
   "source": [
    "isMainchain(1)"
   ]
  },
  {
   "cell_type": "code",
   "execution_count": 16,
   "id": "b693a7cc",
   "metadata": {},
   "outputs": [
    {
     "name": "stdout",
     "output_type": "stream",
     "text": [
      "\u001b[33mfalse\u001b[39m\n"
     ]
    }
   ],
   "source": [
    "isMainchain(43114)"
   ]
  },
  {
   "cell_type": "markdown",
   "id": "0b5cee07",
   "metadata": {},
   "source": [
    "## `type NetworkConnection`"
   ]
  },
  {
   "cell_type": "code",
   "execution_count": 17,
   "id": "7b480864",
   "metadata": {},
   "outputs": [],
   "source": [
    "import { NetworkConnection } from '@pendle/sdk-v2';"
   ]
  },
  {
   "cell_type": "markdown",
   "id": "04e51a72",
   "metadata": {},
   "source": [
    "```tsx\n",
    "export type NetworkConnection =\n",
    "    | { provider: Provider; signer?: undefined }\n",
    "    | { provider?: undefined; signer: Signer }\n",
    "    | { provider: Provider; signer: Signer };\n",
    "```\n",
    "\n",
    "This type looks complicated, but it actually has only two fields:\n",
    "\n",
    "- `provider: Provider`\n",
    "- `signer: Signer`\n",
    "\n",
    "It is written so so that one of the fields can be omitted, **but not both!** Also, we strongly recommend using `tsc` with `strict` mode."
   ]
  },
  {
   "cell_type": "markdown",
   "id": "b5bfa26f",
   "metadata": {},
   "source": [
    "### Example"
   ]
  },
  {
   "cell_type": "code",
   "execution_count": 22,
   "id": "00fc8115",
   "metadata": {},
   "outputs": [],
   "source": [
    "import { getDefaultProvider, Wallet } from 'ethers';\n",
    "\n",
    "const provider = getDefaultProvider();\n",
    "const signer = Wallet.createRandom();\n",
    "\n",
    "// ok examples\n",
    "const nc1: NetworkConnection = { provider };\n",
    "const nc2: NetworkConnection = { signer };\n",
    "const nc3: NetworkConnection = { provider, signer};\n",
    "\n",
    "// not ok example\n",
    "// const nc4: NetworkConnection = {};"
   ]
  },
  {
   "cell_type": "markdown",
   "id": "f17a3390",
   "metadata": {},
   "source": [
    "## `function copyNetworkConnection`"
   ]
  },
  {
   "cell_type": "code",
   "execution_count": 23,
   "id": "aaf18767",
   "metadata": {},
   "outputs": [],
   "source": [
    "import { copyNetworkConnection } from '@pendle/sdk-v2';"
   ]
  },
  {
   "cell_type": "markdown",
   "id": "3468dc92",
   "metadata": {},
   "source": [
    "```tsx\n",
    "export function copyNetworkConnection(networkConnection: NetworkConnection): NetworkConnection;\n",
    "```\n",
    "\n",
    "This function **only** copies the `provide` and the `signer` fields of the input object."
   ]
  },
  {
   "cell_type": "markdown",
   "id": "c207d754",
   "metadata": {},
   "source": [
    "### Example"
   ]
  },
  {
   "cell_type": "code",
   "execution_count": 30,
   "id": "6418ab9b",
   "metadata": {},
   "outputs": [
    {
     "name": "stdout",
     "output_type": "stream",
     "text": [
      "[ \u001b[32m'provider'\u001b[39m, \u001b[32m'signer'\u001b[39m ]\n"
     ]
    }
   ],
   "source": [
    "import { getDefaultProvider, Wallet } from 'ethers';\n",
    "\n",
    "const provider = getDefaultProvider();\n",
    "const signer = Wallet.createRandom();\n",
    "\n",
    "const nc1 = { provider, aRandomField: 'foo' };\n",
    "const nc2 = copyNetworkConnection(nc1);\n",
    "// Print the keys of nc2\n",
    "Object.keys(nc2);"
   ]
  },
  {
   "cell_type": "markdown",
   "id": "48039e93",
   "metadata": {},
   "source": [
    "## `ContractLike<T>`"
   ]
  },
  {
   "cell_type": "code",
   "execution_count": 31,
   "id": "676ed808",
   "metadata": {},
   "outputs": [],
   "source": [
    "import { ContractLike } from '@pendle/sdk-v2';"
   ]
  },
  {
   "cell_type": "markdown",
   "id": "12217142",
   "metadata": {},
   "source": [
    "```tsx\n",
    "type ContractLike<T extends Contract = Contract> = T | WrappedContract<T>;\n",
    "```\n",
    "\n",
    "See this type in [Pendle SDK’s WrappedContract](TODO) <span style=\"color: red\">(TODO link)</span>"
   ]
  }
 ],
 "metadata": {
  "kernelspec": {
   "display_name": "TypeScript",
   "language": "typescript",
   "name": "tslab"
  },
  "language_info": {
   "codemirror_mode": {
    "mode": "typescript",
    "name": "javascript",
    "typescript": true
   },
   "file_extension": ".ts",
   "mimetype": "text/typescript",
   "name": "typescript",
   "version": "3.7.2"
  }
 },
 "nbformat": 4,
 "nbformat_minor": 5
}
