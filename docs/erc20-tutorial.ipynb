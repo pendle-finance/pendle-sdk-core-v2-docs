{
 "cells": [
  {
   "cell_type": "markdown",
   "id": "6d3b56a6",
   "metadata": {},
   "source": [
    "_**Caution**_: In this notebook, we are using a dummy address. If you wish to see a more natural result without the risk of losing money, please specify your own address and change the chain ID to testnet ID (for example, `43113` for Fuji).\n",
    "\n",
    "---"
   ]
  },
  {
   "cell_type": "markdown",
   "id": "29dec5a8",
   "metadata": {},
   "source": [
    "There are a few kinds of entities in Pendle SDK, and ERC20 is one of them. The entities have similar functionalities, and ERC20 is the most straightforward and common entity. So let’s take a look at Pendle SDK’s functionalities with ERC20."
   ]
  },
  {
   "cell_type": "markdown",
   "id": "e2df0935",
   "metadata": {},
   "source": [
    "# Entity creation"
   ]
  },
  {
   "cell_type": "markdown",
   "id": "6bce8414",
   "metadata": {},
   "source": [
    "Let’s say we want to interact with the USDC contract on Ethereum. USDC contract has address `0xa0b86991c6218b36c1d19d4a2e9eb0ce3606eb48`, and Ethereum has the chain ID of `1`."
   ]
  },
  {
   "cell_type": "code",
   "execution_count": 1,
   "id": "1221a744",
   "metadata": {},
   "outputs": [],
   "source": [
    "const USDCAddress = '0xa0b86991c6218b36c1d19d4a2e9eb0ce3606eb48';\n",
    "const chainId = 1;"
   ]
  },
  {
   "cell_type": "markdown",
   "id": "998e98c5",
   "metadata": {},
   "source": [
    "To communicate with the contract, we also need a provider and/or signer."
   ]
  },
  {
   "cell_type": "code",
   "execution_count": 2,
   "id": "e88917d4",
   "metadata": {},
   "outputs": [],
   "source": [
    "import { Wallet, getDefaultProvider } from 'ethers';\n",
    "\n",
    "const dummyMnemonic = 'test test test test test test test test test test test junk';\n",
    "\n",
    "const provider = getDefaultProvider();\n",
    "const wallet = Wallet.fromMnemonic(dummyMnemonic).connect(provider);\n",
    "const signer = wallet;"
   ]
  },
  {
   "cell_type": "markdown",
   "id": "0806bc1c",
   "metadata": {},
   "source": [
    " With this information, we can create an ERC20 entity as follows"
   ]
  },
  {
   "cell_type": "code",
   "execution_count": 3,
   "id": "514680cb",
   "metadata": {},
   "outputs": [],
   "source": [
    "import { ERC20 } from '@pendle/sdk-v2';\n",
    "\n",
    "\n",
    "// ERC20 entity with read-only functionalities\n",
    "const readonlyErc20 = new ERC20(USDCAddress, chainId, { provider: provider });\n",
    "\n",
    "// ERC20 entity with read-write functionalities\n",
    "const readWriteErc20 = new ERC20(USDCAddress, chainId, { signer: signer });"
   ]
  },
  {
   "cell_type": "markdown",
   "id": "f9b031ff",
   "metadata": {},
   "source": [
    "Other entities have roughly the same constructor signature: \n",
    "- the contract address,\n",
    "- the network chain ID, and\n",
    "- the network connection.\n",
    "\n",
    "The chain ID parameter should satisfy the type `ChainId`, a union of the supported chain ID number. The `ChainId` type is specified as follows:\n",
    "\n",
    "```ts\n",
    "type ChainId = 1 | 43113 | 80001 | 43114;\n",
    "```"
   ]
  },
  {
   "cell_type": "markdown",
   "id": "7839e2d1",
   "metadata": {},
   "source": [
    "The network connection parameter should be an object that has either the property provider: `ethers.providers.Provider`, or `signer: ethers.Signer`. Pass signer if all contract functionalities are required. Otherwise, just pass in a provider. If both provider and signer are presented, the signer must be connected to the passed-in provider (an error will be thrown otherwise)."
   ]
  },
  {
   "cell_type": "code",
   "execution_count": 4,
   "id": "057122f2",
   "metadata": {},
   "outputs": [
    {
     "name": "stdout",
     "output_type": "stream",
     "text": [
      "Got error\n",
      "PendleSdkError: For contract creation, networkConnection.provider should be the same as networkConnection.signer.provider\n",
      "    at createContractObject (/home/darkkcyan/projects/pendle-sdk-core-v2-docs/node_modules/\u001b[4m@pendle\u001b[24m/sdk-v2/dist/sdk-v2.cjs.development.js:1288:11)\n",
      "    at new PendleEntity (/home/darkkcyan/projects/pendle-sdk-core-v2-docs/node_modules/\u001b[4m@pendle\u001b[24m/sdk-v2/dist/sdk-v2.cjs.development.js:1311:22)\n",
      "    at new ERC20 (/home/darkkcyan/projects/pendle-sdk-core-v2-docs/node_modules/\u001b[4m@pendle\u001b[24m/sdk-v2/dist/sdk-v2.cjs.development.js:1333:5)\n",
      "    at evalmachine.<anonymous>:18:5\n",
      "    at evalmachine.<anonymous>:25:3\n",
      "\u001b[90m    at sigintHandlersWrap (node:vm:276:12)\u001b[39m\n",
      "\u001b[90m    at Script.runInThisContext (node:vm:127:14)\u001b[39m\n",
      "\u001b[90m    at Object.runInThisContext (node:vm:313:38)\u001b[39m\n",
      "    at Object.execute (/usr/lib/node_modules/\u001b[4mtslab\u001b[24m/dist/executor.js:162:38)\n",
      "    at JupyterHandlerImpl.handleExecuteImpl (/usr/lib/node_modules/\u001b[4mtslab\u001b[24m/dist/jupyter.js:219:38)\n"
     ]
    }
   ],
   "source": [
    "const provider = getDefaultProvider();\n",
    "const unconnectedWallet = Wallet.createRandom();\n",
    "const connectedWallet = unconnectedWallet.connect(provider);\n",
    "\n",
    "const contractAddress = USDCAddress;\n",
    "\n",
    "// The following constructions work fine\n",
    "new ERC20(contractAddress, chainId, { provider });\n",
    "new ERC20(contractAddress, chainId, { signer: connectedWallet });\n",
    "new ERC20(contractAddress, chainId, { signer: unconnectedWallet });\n",
    "new ERC20(contractAddress, chainId, { provider, signer: connectedWallet });\n",
    "\n",
    "// The following construction will throw an error\n",
    "try {\n",
    "    new ERC20(contractAddress, chainId, { provider, signer: unconnectedWallet });  // Error\n",
    "} catch (e) {\n",
    "    console.log('Got error');\n",
    "    console.log(e);\n",
    "}"
   ]
  },
  {
   "cell_type": "markdown",
   "id": "27af8f17",
   "metadata": {},
   "source": [
    "# Read-only functions"
   ]
  },
  {
   "cell_type": "markdown",
   "id": "727af69b",
   "metadata": {},
   "source": [
    "An `ERC20` has the following read-only functions:\n",
    "```solidity\n",
    "function name() public view returns (string);\n",
    "function symbol() public view returns (string);\n",
    "function decimals() public view returns (uint8);\n",
    "function totalSupply() public view returns (uint256);\n",
    "function balanceOf(address _owner) public view returns (uint256 balance);\n",
    "function allowance(address _owner, address _spender) public view returns (uint256 remaining);\n",
    "```"
   ]
  },
  {
   "cell_type": "markdown",
   "id": "a31f2ebc",
   "metadata": {},
   "source": [
    "You can use these functions similarly to calling them in a contract:"
   ]
  },
  {
   "cell_type": "code",
   "execution_count": 5,
   "id": "469a105f",
   "metadata": {},
   "outputs": [],
   "source": [
    "import { Address } from '@pendle/sdk-v2';\n",
    "\n",
    "async function readonlyFunctionsExample(erc20: ERC20, ownerAddress: string, spenderAddress: string) {\n",
    "    const name = await erc20.name();\n",
    "    const symbol = await erc20.symbol();\n",
    "    \n",
    "    // convert ethersjs' BigNumber to string for readability\n",
    "    const decimals = (await erc20.decimals()).toString();\n",
    "    const totalSupply = (await erc20.totalSupply()).toString();\n",
    "    const balanceOf = (await erc20.balanceOf(ownerAddress)).toString();\n",
    "    const allowance = (await erc20.allowance(ownerAddress, spenderAddress)).toString();\n",
    "    return {ownerAddress, spenderAddress, name, symbol, decimals, totalSupply, balanceOf, allowance };\n",
    "}"
   ]
  },
  {
   "cell_type": "markdown",
   "id": "33deb819",
   "metadata": {},
   "source": [
    "To demonstrate the usage of the example, we need addresses of an owner and a spender. For example, we can use the address of [this transaction](https://etherscan.io/tx/0x5678b37a0acda9b248d242173b9a43a869b8ff81ee6d9b8f4ec387cf640edc65):\n"
   ]
  },
  {
   "cell_type": "code",
   "execution_count": 6,
   "id": "e565e695",
   "metadata": {},
   "outputs": [],
   "source": [
    "const ownerAddress = '0x5cb656d7605d9924c085fc859585f3ff2f7ad08f';\n",
    "const spenderAddress = '0x221b0a202d7926fc1b9257310b5a16592f2ab852';"
   ]
  },
  {
   "cell_type": "code",
   "execution_count": 7,
   "id": "695bc588",
   "metadata": {},
   "outputs": [
    {
     "name": "stdout",
     "output_type": "stream",
     "text": [
      "========= NOTICE =========\n",
      "Request-Rate Exceeded  (this message will not be repeated)\n",
      "\n",
      "The default API keys for each service are provided as a highly-throttled,\n",
      "community resource for low-traffic projects and early prototyping.\n",
      "\n",
      "While your application will continue to function, we highly recommended\n",
      "signing up for your own API keys to improve performance, increase your\n",
      "request rate/limit and enable other perks, such as metrics and advanced APIs.\n",
      "\n",
      "For more details: https://docs.ethers.io/api-keys/\n",
      "==========================\n",
      "{\n",
      "  ownerAddress: \u001b[32m'0x5cb656d7605d9924c085fc859585f3ff2f7ad08f'\u001b[39m,\n",
      "  spenderAddress: \u001b[32m'0x221b0a202d7926fc1b9257310b5a16592f2ab852'\u001b[39m,\n",
      "  name: \u001b[32m'USD Coin'\u001b[39m,\n",
      "  symbol: \u001b[32m'USDC'\u001b[39m,\n",
      "  decimals: \u001b[32m'6'\u001b[39m,\n",
      "  totalSupply: \u001b[32m'38514266086829550'\u001b[39m,\n",
      "  balanceOf: \u001b[32m'0'\u001b[39m,\n",
      "  allowance: \u001b[32m'0'\u001b[39m\n",
      "}\n"
     ]
    }
   ],
   "source": [
    "await readonlyFunctionsExample(readonlyErc20, ownerAddress, spenderAddress);"
   ]
  },
  {
   "cell_type": "markdown",
   "id": "590cf654",
   "metadata": {},
   "source": [
    "The function `readonlyFunctionsExample` sends the calls _sequentially_. To send the all the calls to the provider at the same time, use `Promise.all`."
   ]
  },
  {
   "cell_type": "code",
   "execution_count": 8,
   "id": "5003ade1",
   "metadata": {},
   "outputs": [],
   "source": [
    "async function readonlyFunctionExamplePromiseAll(erc20: ERC20, ownerAddress: string, spenderAddress: string) {\n",
    "    const [name, symbol, decimals, totalSupply, balanceOf, allowance] = await Promise.all([\n",
    "        erc20.name(),\n",
    "        erc20.symbol(),\n",
    "        \n",
    "        // convert ethersjs' BigNumber to string for readability\n",
    "        erc20.decimals().then(String),\n",
    "        erc20.totalSupply().then(String),\n",
    "        erc20.balanceOf(ownerAddress).then(String),\n",
    "        erc20.allowance(ownerAddress, spenderAddress).then(String),\n",
    "    ]);\n",
    "    return {ownerAddress, spenderAddress, name, symbol, decimals, totalSupply, balanceOf, allowance };\n",
    "}"
   ]
  },
  {
   "cell_type": "code",
   "execution_count": 9,
   "id": "d5f58051",
   "metadata": {},
   "outputs": [
    {
     "name": "stdout",
     "output_type": "stream",
     "text": [
      "{\n",
      "  ownerAddress: \u001b[32m'0x5cb656d7605d9924c085fc859585f3ff2f7ad08f'\u001b[39m,\n",
      "  spenderAddress: \u001b[32m'0x221b0a202d7926fc1b9257310b5a16592f2ab852'\u001b[39m,\n",
      "  name: \u001b[32m'USD Coin'\u001b[39m,\n",
      "  symbol: \u001b[32m'USDC'\u001b[39m,\n",
      "  decimals: \u001b[32m'6'\u001b[39m,\n",
      "  totalSupply: \u001b[32m'38514266086829550'\u001b[39m,\n",
      "  balanceOf: \u001b[32m'0'\u001b[39m,\n",
      "  allowance: \u001b[32m'0'\u001b[39m\n",
      "}\n"
     ]
    }
   ],
   "source": [
    "await readonlyFunctionExamplePromiseAll(readonlyErc20, ownerAddress, spenderAddress);"
   ]
  },
  {
   "cell_type": "markdown",
   "id": "32eabfb3",
   "metadata": {},
   "source": [
    "## Multicall support"
   ]
  },
  {
   "cell_type": "markdown",
   "id": "b42e23c7",
   "metadata": {},
   "source": [
    "Pendle SDK supports calling read-only functions with [Multicall](https://github.com/makerdao/multicall) by makerdao. Multicall is the preferred way to call multiple contract methods at once to reduce the round trips over the network. To use multicall, first create a Multicall instance as follows:"
   ]
  },
  {
   "cell_type": "code",
   "execution_count": 10,
   "id": "e71193f7",
   "metadata": {},
   "outputs": [],
   "source": [
    "import { Multicall } from '@pendle/sdk-v2';\n",
    "\n",
    "const multicall = new Multicall({ chainId: chainId, provider: provider });"
   ]
  },
  {
   "cell_type": "markdown",
   "id": "6ca6e228",
   "metadata": {},
   "source": [
    "`chainId` and `provider` are the required parameters. There are two more optional parameters:\n",
    "\n",
    "- `callLimit: number` (default: `64`), the maximum number of calls per multicall request.\n",
    "- `blockTag: string` (default: `latest`), the block tag for the multicall requests."
   ]
  },
  {
   "cell_type": "markdown",
   "id": "5bff9c99",
   "metadata": {},
   "source": [
    "### Passing multicall to entity constructor"
   ]
  },
  {
   "cell_type": "markdown",
   "id": "79ccc14e",
   "metadata": {},
   "source": [
    "ERC20 entity’s contractor’s third parameter also accept multicall. You can pass in `multicall` to ERC20 as follows:"
   ]
  },
  {
   "cell_type": "code",
   "execution_count": 11,
   "id": "5f331f63",
   "metadata": {},
   "outputs": [],
   "source": [
    "const readonlyErc20WithMulticall = new ERC20(USDCAddress, chainId, { provider: provider, multicall: multicall });"
   ]
  },
  {
   "cell_type": "markdown",
   "id": "1951155a",
   "metadata": {},
   "source": [
    "After that, you can use it as in readonlyFunctionExamplePromiseAll, and Pendle SDK will handle the batching for you:"
   ]
  },
  {
   "cell_type": "code",
   "execution_count": 12,
   "id": "ac40f1a3",
   "metadata": {},
   "outputs": [
    {
     "name": "stdout",
     "output_type": "stream",
     "text": [
      "{\n",
      "  ownerAddress: \u001b[32m'0x5cb656d7605d9924c085fc859585f3ff2f7ad08f'\u001b[39m,\n",
      "  spenderAddress: \u001b[32m'0x221b0a202d7926fc1b9257310b5a16592f2ab852'\u001b[39m,\n",
      "  name: \u001b[32m'USD Coin'\u001b[39m,\n",
      "  symbol: \u001b[32m'USDC'\u001b[39m,\n",
      "  decimals: \u001b[32m'6'\u001b[39m,\n",
      "  totalSupply: \u001b[32m'38514266086829550'\u001b[39m,\n",
      "  balanceOf: \u001b[32m'0'\u001b[39m,\n",
      "  allowance: \u001b[32m'0'\u001b[39m\n",
      "}\n"
     ]
    }
   ],
   "source": [
    "await readonlyFunctionExamplePromiseAll(readonlyErc20WithMulticall, ownerAddress, spenderAddress);"
   ]
  },
  {
   "cell_type": "markdown",
   "id": "4ef30c68",
   "metadata": {},
   "source": [
    "Note that `readonlyFunctionsExample` will not work with multicall, as the methods are called sequentially. If used with an ERC20 entity that is initialized with a multicall instance, each call will be a multicall request with a single call inside instead!"
   ]
  },
  {
   "cell_type": "markdown",
   "id": "fc3500dc",
   "metadata": {},
   "source": [
    "### Passing multicall to the methods"
   ]
  },
  {
   "cell_type": "markdown",
   "id": "f979466a",
   "metadata": {},
   "source": [
    "If an ERC20 entity was not initialized with `multicall`, it can still be called with multicall by passing the `multicall` instance to the methods as the last parameter:"
   ]
  },
  {
   "cell_type": "code",
   "execution_count": 13,
   "id": "fe4cdbc5",
   "metadata": {},
   "outputs": [],
   "source": [
    "async function readonlyFunctionExample_multicallToMethods(\n",
    "    erc20: ERC20,\n",
    "    ownerAddress: string,\n",
    "    spenderAddress: string,\n",
    "    multicall?: Multicall\n",
    ") {\n",
    "    const [name, symbol, decimals, totalSupply, balanceOf, allowance] = await Promise.all([\n",
    "        erc20.name({ multicall }),\n",
    "        erc20.symbol({ multicall }),\n",
    "        \n",
    "        // convert ethersjs' BigNumber to string for readability\n",
    "        erc20.decimals({ multicall }).then(String),\n",
    "        erc20.totalSupply({ multicall }).then(String),\n",
    "        erc20.balanceOf(ownerAddress, { multicall }).then(String),\n",
    "        erc20.allowance(ownerAddress, spenderAddress, { multicall }).then(String),\n",
    "    ]);\n",
    "    return {ownerAddress, spenderAddress, name, symbol, decimals, totalSupply, balanceOf, allowance };\n",
    "}"
   ]
  },
  {
   "cell_type": "code",
   "execution_count": 14,
   "id": "ccf0525f",
   "metadata": {},
   "outputs": [
    {
     "name": "stdout",
     "output_type": "stream",
     "text": [
      "{\n",
      "  ownerAddress: \u001b[32m'0x5cb656d7605d9924c085fc859585f3ff2f7ad08f'\u001b[39m,\n",
      "  spenderAddress: \u001b[32m'0x221b0a202d7926fc1b9257310b5a16592f2ab852'\u001b[39m,\n",
      "  name: \u001b[32m'USD Coin'\u001b[39m,\n",
      "  symbol: \u001b[32m'USDC'\u001b[39m,\n",
      "  decimals: \u001b[32m'6'\u001b[39m,\n",
      "  totalSupply: \u001b[32m'38514266086829550'\u001b[39m,\n",
      "  balanceOf: \u001b[32m'0'\u001b[39m,\n",
      "  allowance: \u001b[32m'0'\u001b[39m\n",
      "}\n"
     ]
    }
   ],
   "source": [
    "await readonlyFunctionExample_multicallToMethods(\n",
    "    readonlyErc20WithMulticall,\n",
    "    ownerAddress,\n",
    "    spenderAddress,\n",
    "    multicall\n",
    ");"
   ]
  },
  {
   "cell_type": "markdown",
   "id": "6526d314",
   "metadata": {},
   "source": [
    "Again, Pendle SDK will handle all the batching. And also `readonlyFunctionsExample` will also not work for the same reason as above."
   ]
  },
  {
   "cell_type": "markdown",
   "id": "df199ccf",
   "metadata": {},
   "source": [
    "When `multicall` parameter is `undefined`, it will have the same effect as `readonlyFunctionExamplePromiseAll` (without `multicall`)."
   ]
  },
  {
   "cell_type": "code",
   "execution_count": 15,
   "id": "4b667b7e",
   "metadata": {},
   "outputs": [
    {
     "name": "stdout",
     "output_type": "stream",
     "text": [
      "{\n",
      "  ownerAddress: \u001b[32m'0x5cb656d7605d9924c085fc859585f3ff2f7ad08f'\u001b[39m,\n",
      "  spenderAddress: \u001b[32m'0x221b0a202d7926fc1b9257310b5a16592f2ab852'\u001b[39m,\n",
      "  name: \u001b[32m'USD Coin'\u001b[39m,\n",
      "  symbol: \u001b[32m'USDC'\u001b[39m,\n",
      "  decimals: \u001b[32m'6'\u001b[39m,\n",
      "  totalSupply: \u001b[32m'38514266086829550'\u001b[39m,\n",
      "  balanceOf: \u001b[32m'0'\u001b[39m,\n",
      "  allowance: \u001b[32m'0'\u001b[39m\n",
      "}\n"
     ]
    }
   ],
   "source": [
    "await readonlyFunctionExample_multicallToMethods(\n",
    "    readonlyErc20WithMulticall,\n",
    "    ownerAddress,\n",
    "    spenderAddress\n",
    "    // No multicall here\n",
    ");"
   ]
  },
  {
   "cell_type": "markdown",
   "id": "f781dc63",
   "metadata": {},
   "source": [
    "# Write functions"
   ]
  },
  {
   "cell_type": "markdown",
   "id": "0fc43e62",
   "metadata": {},
   "source": [
    "**Caution**: The following functions might modify the contract state. To prevent this, we define the following variable. Set it to true to run the write methods. As we are using Typescript, the example is guaranteed to have the correct typing."
   ]
  },
  {
   "cell_type": "code",
   "execution_count": 16,
   "id": "2b26e290",
   "metadata": {},
   "outputs": [],
   "source": [
    "const ACTUALLY_RUN_WRITE_FUNCTION = false;"
   ]
  },
  {
   "cell_type": "code",
   "execution_count": 17,
   "id": "5903f281",
   "metadata": {},
   "outputs": [],
   "source": [
    "function guardWrite<A extends any[], R>(fn: (...params: A) => R): (...params: A) => R | undefined {\n",
    "    return (...params: A) => {\n",
    "        if (!ACTUALLY_RUN_WRITE_FUNCTION) {\n",
    "            console.log(\"Please set ACTUALLY_RUN_WRITE_FUNCTION to true to run the function\");\n",
    "            return undefined;\n",
    "        }\n",
    "        return fn(...params);\n",
    "    };\n",
    "}"
   ]
  },
  {
   "cell_type": "markdown",
   "id": "72f353e8",
   "metadata": {},
   "source": [
    "---\n",
    "\n",
    "An `ERC20` has the following write functions:\n",
    "```solidity\n",
    "function approve(address _spender, uint256 _value) public returns (bool success);\n",
    "function transfer(address _to, uint256 _value) public returns (bool success);\n",
    "```"
   ]
  },
  {
   "cell_type": "markdown",
   "id": "7ad2a9c5",
   "metadata": {},
   "source": [
    "As the read-only function, you can also use these functions similarly to calling them in a contract:"
   ]
  },
  {
   "cell_type": "code",
   "execution_count": 18,
   "id": "69ea3989",
   "metadata": {},
   "outputs": [],
   "source": [
    "import { BigNumberish } from '@pendle/sdk-v2';\n",
    "\n",
    "const writeFunctionExample = guardWrite(async (\n",
    "    erc20: ERC20,\n",
    "    spenderAddress: string,\n",
    "    rawAmount: BigNumberish\n",
    ") => {\n",
    "    await erc20.approve(spenderAddress, rawAmount);\n",
    "    await erc20.transfer(spenderAddress, rawAmount);\n",
    "});"
   ]
  },
  {
   "cell_type": "markdown",
   "id": "7399abe8",
   "metadata": {},
   "source": [
    "To run the function, we need `spenderAddress`, as well as an `amount`."
   ]
  },
  {
   "cell_type": "code",
   "execution_count": 19,
   "id": "4541a77c",
   "metadata": {},
   "outputs": [],
   "source": [
    "const spenderAddress = '0x221b0a202d7926fc1b9257310b5a16592f2ab852';\n",
    "const amount = 0;"
   ]
  },
  {
   "cell_type": "code",
   "execution_count": 20,
   "id": "f49a81f6",
   "metadata": {},
   "outputs": [
    {
     "name": "stdout",
     "output_type": "stream",
     "text": [
      "Please set ACTUALLY_RUN_WRITE_FUNCTION to true to run the function\n"
     ]
    }
   ],
   "source": [
    "await writeFunctionExample(readWriteErc20, spenderAddress, amount);"
   ]
  },
  {
   "cell_type": "markdown",
   "id": "e45f78bc",
   "metadata": {},
   "source": [
    "In `writeFunctionExample`, two transactions will be sent. The first one is a approve transaction. After the first one is done, another transaction, with is transfer is sent."
   ]
  },
  {
   "cell_type": "markdown",
   "id": "c80283e0",
   "metadata": {},
   "source": [
    "## Meta-methods"
   ]
  },
  {
   "cell_type": "markdown",
   "id": "fb828515",
   "metadata": {},
   "source": [
    "Sometimes we don’t want to make a change to the network, but we only want to see the hypothetical results, or we want to estimate the amount of gas used. Ethers.js allows doing these actions directly via [`callStatic`](https://docs.ethers.io/v5/api/contract/contract/#contract-callStatic) and [`estimateGas`](https://docs.ethers.io/v5/api/contract/contract/#contract-estimateGas) *[meta classes](https://docs.ethers.io/v5/api/contract/contract/#Contract--metaclass)*. Pendle SDK also allows doing these actions via the *meta-method*. Each write function also accepts an additional parameter, which is `MetaMethodType`, defined as follows:\n",
    "\n",
    "```ts\n",
    "type MetaMethodType = 'send' | 'callStatic' | 'estimateGas' | 'meta-method' | 'multicallStatic';\n",
    "```"
   ]
  },
  {
   "cell_type": "markdown",
   "id": "fb02c09f",
   "metadata": {},
   "source": [
    "### `send` meta-method"
   ]
  },
  {
   "cell_type": "markdown",
   "id": "83ffe4d7",
   "metadata": {},
   "source": [
    "This meta-method is the default behavior for a method call, which is to perform a transaction"
   ]
  },
  {
   "cell_type": "code",
   "execution_count": 21,
   "id": "ea1c377d",
   "metadata": {},
   "outputs": [],
   "source": [
    "import { Overrides } from 'ethers'; \n",
    "\n",
    "const writeFunctionExample_sendMetaMethod = guardWrite(async (\n",
    "    erc20: ERC20,\n",
    "    spenderAddress: string,\n",
    "    rawAmount: BigNumberish,\n",
    "    overrides?: Overrides\n",
    ") => {\n",
    "    await erc20.approve(spenderAddress, rawAmount, { method: 'send', overrides });\n",
    "    await erc20.transfer(spenderAddress, rawAmount, { method: 'send', overrides });\n",
    "});"
   ]
  },
  {
   "cell_type": "code",
   "execution_count": 22,
   "id": "94d7b9d0",
   "metadata": {},
   "outputs": [
    {
     "name": "stdout",
     "output_type": "stream",
     "text": [
      "Please set ACTUALLY_RUN_WRITE_FUNCTION to true to run the function\n"
     ]
    }
   ],
   "source": [
    "await writeFunctionExample_sendMetaMethod(readWriteErc20, spenderAddress, amount);"
   ]
  },
  {
   "cell_type": "markdown",
   "id": "67380749",
   "metadata": {},
   "source": [
    "`writeFunctionExample_sendMetaMethod` does the same thing as `writeFunctionExample`."
   ]
  },
  {
   "cell_type": "markdown",
   "id": "b6090f54",
   "metadata": {},
   "source": [
    "### `callStatic` meta-method"
   ]
  },
  {
   "cell_type": "markdown",
   "id": "103de204",
   "metadata": {},
   "source": [
    "Use this meta-method to ask a node to execute the contract and return the hypothetical results of the method."
   ]
  },
  {
   "cell_type": "code",
   "execution_count": 23,
   "id": "163f92df",
   "metadata": {},
   "outputs": [],
   "source": [
    "async function writeFunctionExample_callStaticMetaMethod(\n",
    "    erc20: ERC20,\n",
    "    spenderAddress: string,\n",
    "    rawAmount: BigNumberish,\n",
    "    overrides?: Overrides\n",
    ") {\n",
    "    const isApproved = await erc20.approve(spenderAddress, rawAmount, { method: 'callStatic', overrides });\n",
    "    const transferable = await erc20.transfer(spenderAddress, rawAmount, { method: 'callStatic', overrides });\n",
    "    return { isApproved, transferable };\n",
    "}"
   ]
  },
  {
   "cell_type": "code",
   "execution_count": 24,
   "id": "3372eac6",
   "metadata": {},
   "outputs": [
    {
     "name": "stdout",
     "output_type": "stream",
     "text": [
      "{ isApproved: \u001b[33mtrue\u001b[39m, transferable: \u001b[33mtrue\u001b[39m }\n"
     ]
    }
   ],
   "source": [
    "await writeFunctionExample_callStaticMetaMethod(readWriteErc20, spenderAddress, amount);"
   ]
  },
  {
   "cell_type": "markdown",
   "id": "cd101053",
   "metadata": {},
   "source": [
    "### `multicallStatic` meta-method\n",
    "\n",
    "This is the same as `callStatic` but with Multicall. Note that `multicall` effects only happen for this meta-method if the entity is initialized with `Multicall`. If you want to pass a multicall instance to the method call, see [`meta-method` meta-method.](https://www.notion.so/ERC20-contract-interaction-tutorial-with-Pendle-SDK-db0bd481eed541cd88c5f226887d8600)"
   ]
  },
  {
   "cell_type": "code",
   "execution_count": 25,
   "id": "e73c25f9",
   "metadata": {},
   "outputs": [],
   "source": [
    "async function writeFunctionExample_multicallStaticMetaMethod(\n",
    "     erc20: ERC20,\n",
    "     spenderAddress: string,\n",
    "     amount: BigNumberish,\n",
    "     multicall?: Multicall\n",
    ") {\n",
    "    const [isApproved, transferable] = await Promise.all([\n",
    "        erc20.approve(spenderAddress, amount, { method: 'multicallStatic', multicall }),\n",
    "        erc20.transfer(spenderAddress, amount, { method: 'multicallStatic', multicall })\n",
    "    ]);\n",
    "    return { isApproved, transferable };\n",
    "}"
   ]
  },
  {
   "cell_type": "code",
   "execution_count": 27,
   "id": "2bfeb1ab",
   "metadata": {},
   "outputs": [
    {
     "name": "stdout",
     "output_type": "stream",
     "text": [
      "{ isApproved: \u001b[33mtrue\u001b[39m, transferable: \u001b[33mtrue\u001b[39m }\n"
     ]
    }
   ],
   "source": [
    "await writeFunctionExample_multicallStaticMetaMethod(readWriteErc20, spenderAddress, amount, multicall);"
   ]
  },
  {
   "cell_type": "markdown",
   "id": "2b94e5cc",
   "metadata": {},
   "source": [
    "### `estimateGas` meta-method\n",
    "Use this meta method to estimate the amount of gas consumed for the method calls."
   ]
  },
  {
   "cell_type": "code",
   "execution_count": 28,
   "id": "31dde8c1",
   "metadata": {},
   "outputs": [],
   "source": [
    "async function writeFunctionExample_estimateGasMetaMethod(\n",
    "    erc20: ERC20,\n",
    "    spenderAddress: Address,\n",
    "    amount: BigNumberish,\n",
    "    overrides?: Overrides\n",
    ") {\n",
    "    const approveGasUsed = String(await erc20.approve(spenderAddress, amount, {\n",
    "        method: 'estimateGas',\n",
    "        overrides\n",
    "    }));\n",
    "    const transferGasUsed = String(await erc20.transfer(spenderAddress, amount, {\n",
    "        method: 'estimateGas',\n",
    "        overrides\n",
    "    }));\n",
    "    return { approveGasUsed, transferGasUsed };\n",
    "}"
   ]
  },
  {
   "cell_type": "code",
   "execution_count": 29,
   "id": "c35abb5e",
   "metadata": {},
   "outputs": [
    {
     "name": "stdout",
     "output_type": "stream",
     "text": [
      "{ approveGasUsed: \u001b[32m'40160'\u001b[39m, transferGasUsed: \u001b[32m'43348'\u001b[39m }\n"
     ]
    }
   ],
   "source": [
    "await writeFunctionExample_estimateGasMetaMethod(readWriteErc20, spenderAddress, amount);"
   ]
  },
  {
   "cell_type": "markdown",
   "id": "3248d94d",
   "metadata": {},
   "source": [
    "### `meta-method` meta-method\n",
    "To have more control over the write method, meta-method can be used."
   ]
  },
  {
   "cell_type": "code",
   "execution_count": 31,
   "id": "3c540aa6",
   "metadata": {},
   "outputs": [],
   "source": [
    "async function writeFunctionExample_metaMethodMetaMethod(\n",
    "    erc20: ERC20,\n",
    "    spenderAddress: string,\n",
    "    amount: BigNumberish,\n",
    "    multicall?: Multicall,\n",
    "    overrides?: Overrides\n",
    ") {\n",
    "    const metaMethod = await erc20.approve(spenderAddress, amount, { method: 'meta-method' });\n",
    "\n",
    "    const isApproved = await metaMethod.callStatic(overrides);\n",
    "    const isApprovedWithMulticall = await metaMethod.multicallStatic({ multicall });\n",
    "    const gasUsed = String(await metaMethod.estimateGas(overrides));\n",
    "    \n",
    "    console.log({\n",
    "        isApproved,\n",
    "        isApprovedWithMulticall,\n",
    "        gasUsed,\n",
    "    });\n",
    "        \n",
    "    // actually perform the transaction\n",
    "    await guardWrite(\n",
    "        () => metaMethod.send(overrides)\n",
    "    )();  \n",
    "}"
   ]
  },
  {
   "cell_type": "code",
   "execution_count": 32,
   "id": "078a512a",
   "metadata": {},
   "outputs": [
    {
     "name": "stdout",
     "output_type": "stream",
     "text": [
      "{ isApproved: \u001b[33mtrue\u001b[39m, isApprovedWithMulticall: \u001b[33mtrue\u001b[39m, gasUsed: \u001b[32m'40160'\u001b[39m }\n",
      "Please set ACTUALLY_RUN_WRITE_FUNCTION to true to run the function\n"
     ]
    }
   ],
   "source": [
    "await writeFunctionExample_metaMethodMetaMethod(readWriteErc20, spenderAddress, amount);"
   ]
  },
  {
   "cell_type": "markdown",
   "id": "c91f1f58",
   "metadata": {},
   "source": [
    "# Other functionalities"
   ]
  },
  {
   "cell_type": "markdown",
   "id": "935c0f28",
   "metadata": {},
   "source": [
    "## The inner contract\n",
    "\n",
    "ERC20 entity has a property called `contract: WrappedContract<PendleERC20>`. `PendleERC20` is the contract interface generated to be compatible with ethers.js’s `Contract` object via [`@typechain/hardhat`](https://www.npmjs.com/package/@typechain/hardhat) plugin. `WrappedContract` is our custom type that wraps around the generated interface to have additional functionalities, such as catching Pendle contract errors and calling contracts with multicall and meta-methods. See [`WrappedContract`](https://www.notion.so/Pendle-SDK-s-WrappedContract-18444f7d35d6411b87ce487812be4b58) // TODO fix link."
   ]
  },
  {
   "cell_type": "code",
   "execution_count": 33,
   "id": "cdc2c352",
   "metadata": {
    "scrolled": true
   },
   "outputs": [],
   "source": [
    "import { WrappedContract, PendleERC20 } from '@pendle/sdk-v2';\n",
    "\n",
    "const wrappedContract: WrappedContract<PendleERC20> = readWriteErc20.contract;"
   ]
  },
  {
   "cell_type": "markdown",
   "id": "e09b4e70",
   "metadata": {},
   "source": [
    "\n",
    "## Setting the ABI\n",
    "\n",
    "If you wish to extend `ERC20` classes with a different contract ABI, you can set the ABI via the constructor configuration parameters. The ABI should have a compatible type with the `ERC20` ABI. Be careful to do otherwise, as Pendle SDK does not check to ABI compatibility."
   ]
  },
  {
   "cell_type": "code",
   "execution_count": 34,
   "id": "9957493d",
   "metadata": {},
   "outputs": [],
   "source": [
    "import { PendlePrincipalTokenABI, ChainId, NetworkConnection } from '@pendle/sdk-v2';\n",
    "\n",
    "function createErc20ForPT(\n",
    "    address: Address,\n",
    "    chainId: ChainId,\n",
    "    networkConnection: NetworkConnection\n",
    ") {\n",
    "    return new ERC20(address, chainId, { ...networkConnection, abi: PendlePrincipalTokenABI });\n",
    "}"
   ]
  },
  {
   "cell_type": "markdown",
   "id": "c7b73c26",
   "metadata": {},
   "source": [
    "The `contract` property, however, will still be `WrappedContract<PendleERC20>`. If you know the correct type, you can cast it to that type.\n",
    "\n",
    "If you wish to create a subclass of `ERC20`, you can do as follows:"
   ]
  },
  {
   "cell_type": "code",
   "execution_count": 37,
   "id": "2983b589",
   "metadata": {},
   "outputs": [],
   "source": [
    "import { PendlePrincipalToken } from '@pendle/sdk-v2';\n",
    "\n",
    "class ERC20ForPT extends ERC20 {\n",
    "    // ...\n",
    "    \n",
    "    get myContract(): WrappedContract<PendlePrincipalToken> {\n",
    "        return this._contract as WrappedContract<PendlePrincipalToken>;\n",
    "    }\n",
    "}"
   ]
  },
  {
   "cell_type": "markdown",
   "id": "c759b0a6",
   "metadata": {},
   "source": [
    "This is exactly what is done under the hood of Pendle SDK, as `PendlePrincipalToken` does indeed extend `PendleERC20` on the contract side. See PtEntity (TODO link).\n",
    "> Note: in our code base we actually use `get contract` instead of `get myContract`. But this notebook kernel is a bit old. The code could not be compiled with `get contract`, so we put `get myContract` instead. "
   ]
  }
 ],
 "metadata": {
  "kernelspec": {
   "display_name": "TypeScript",
   "language": "typescript",
   "name": "tslab"
  },
  "language_info": {
   "codemirror_mode": {
    "mode": "typescript",
    "name": "javascript",
    "typescript": true
   },
   "file_extension": ".ts",
   "mimetype": "text/typescript",
   "name": "typescript",
   "version": "3.7.2"
  }
 },
 "nbformat": 4,
 "nbformat_minor": 5
}
